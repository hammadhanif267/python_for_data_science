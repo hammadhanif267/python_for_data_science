{
 "cells": [
  {
   "cell_type": "markdown",
   "metadata": {},
   "source": [
    "# OpenCv and Images"
   ]
  },
  {
   "cell_type": "code",
   "execution_count": 1,
   "metadata": {},
   "outputs": [],
   "source": [
    "# !pip install opencv-python"
   ]
  },
  {
   "cell_type": "code",
   "execution_count": 2,
   "metadata": {},
   "outputs": [],
   "source": [
    "# import libraries\n",
    "import numpy as np\n",
    "import cv2 as cv"
   ]
  },
  {
   "cell_type": "code",
   "execution_count": 3,
   "metadata": {},
   "outputs": [],
   "source": [
    "# read the image\n",
    "img = cv.imread(\"./images/test_01.jpg\")"
   ]
  },
  {
   "cell_type": "code",
   "execution_count": 4,
   "metadata": {},
   "outputs": [],
   "source": [
    "cv.imshow(\"image\", img)\n",
    "cv.waitKey(0)\n",
    "cv.destroyAllWindows()"
   ]
  },
  {
   "cell_type": "code",
   "execution_count": 5,
   "metadata": {},
   "outputs": [
    {
     "data": {
      "text/plain": [
       "(682, 1023, 3)"
      ]
     },
     "execution_count": 5,
     "metadata": {},
     "output_type": "execute_result"
    }
   ],
   "source": [
    "# check the size of img\n",
    "img.shape"
   ]
  },
  {
   "cell_type": "code",
   "execution_count": 6,
   "metadata": {},
   "outputs": [
    {
     "data": {
      "text/plain": [
       "(682, 1023)"
      ]
     },
     "execution_count": 6,
     "metadata": {},
     "output_type": "execute_result"
    }
   ],
   "source": [
    "# convert the img into grascale and then check the shape\n",
    "# convert the img into grayscale\n",
    "gray_img = cv.cvtColor(img, cv.COLOR_BGR2GRAY)\n",
    "\n",
    "# check the shape of gray_img\n",
    "gray_img.shape"
   ]
  },
  {
   "cell_type": "code",
   "execution_count": 7,
   "metadata": {},
   "outputs": [],
   "source": [
    "# read webcam using cv\n",
    "cap = cv.VideoCapture(1)\n",
    "if cap.isOpened():\n",
    "    ret, frame = cap.read()\n",
    "else:\n",
    "    ret = False\n",
    "while ret:\n",
    "    ret, frame = cap.read()\n",
    "    cv.imshow(\"webcam\", frame)\n",
    "    if cv.waitKey(25) & 0xFF ==ord(\"q\"):\n",
    "        break\n",
    "cap.release()\n",
    "cv.destroyAllWindows()"
   ]
  },
  {
   "cell_type": "code",
   "execution_count": 8,
   "metadata": {},
   "outputs": [
    {
     "name": "stdout",
     "output_type": "stream",
     "text": [
      "Failed to capture frame. Exiting...\n"
     ]
    }
   ],
   "source": [
    "# read webcam using cv\n",
    "cap = cv.VideoCapture(1)\n",
    "\n",
    "# change the cam into grayscale cam\n",
    "while True:\n",
    "    ret, frame = cap.read()\n",
    "    if not ret:\n",
    "        print(\"Failed to capture frame. Exiting...\")\n",
    "        break\n",
    "    gray_frame = cv.cvtColor(frame, cv.COLOR_BGR2GRAY)\n",
    "    cv.imshow(\"webcam\", gray_frame)\n",
    "    if cv.waitKey(25) & 0xFF == ord(\"q\"):\n",
    "        break\n",
    "\n",
    "cap.release()\n",
    "cv.destroyAllWindows()"
   ]
  },
  {
   "cell_type": "code",
   "execution_count": null,
   "metadata": {},
   "outputs": [
    {
     "name": "stdout",
     "output_type": "stream",
     "text": [
      "Original Image Shape: (682, 1023, 3)\n",
      "Grayscale Image Shape: (682, 1023)\n"
     ]
    }
   ],
   "source": [
    "# If used in Jupyter Notebook, but the best in python file(as in 02_webcam.py)\n",
    "# # Install OpenCV if not installed\n",
    "# !pip install opencv-python\n",
    "\n",
    "# # Import libraries\n",
    "# import numpy as np\n",
    "# import cv2 as cv\n",
    "\n",
    "# # Read the image\n",
    "# img = cv.imread(\"./images/test_01.jpg\")\n",
    "\n",
    "# # Check if the image was loaded correctly\n",
    "# if img is None:\n",
    "#     print(\"Error: Could not read image. Check the file path.\")\n",
    "# else:\n",
    "#     cv.imshow(\"Image\", img)\n",
    "#     cv.waitKey(0)\n",
    "#     cv.destroyAllWindows()\n",
    "\n",
    "#     # Check the size of the image\n",
    "#     print(\"Original Image Shape:\", img.shape)\n",
    "\n",
    "#     # Convert the image to grayscale\n",
    "#     gray_img = cv.cvtColor(img, cv.COLOR_BGR2GRAY)\n",
    "\n",
    "#     # Check the shape of grayscale image\n",
    "#     print(\"Grayscale Image Shape:\", gray_img.shape)\n",
    "\n",
    "# # Read webcam using OpenCV\n",
    "# cap = cv.VideoCapture(0)  # Use 0 for the default webcam\n",
    "\n",
    "# if not cap.isOpened():\n",
    "#     print(\"Error: Could not open webcam.\")\n",
    "# else:\n",
    "#     ret, frame = cap.read()\n",
    "#     while ret:\n",
    "#         ret, frame = cap.read()\n",
    "#         cv.imshow(\"Webcam\", frame)\n",
    "\n",
    "#         # Press 'q' to exit\n",
    "#         if cv.waitKey(25) & 0xFF == ord(\"q\"):\n",
    "#             break\n",
    "\n",
    "#     cap.release()\n",
    "#     cv.destroyAllWindows()\n"
   ]
  }
 ],
 "metadata": {
  "kernelspec": {
   "display_name": "python_ml",
   "language": "python",
   "name": "python3"
  },
  "language_info": {
   "codemirror_mode": {
    "name": "ipython",
    "version": 3
   },
   "file_extension": ".py",
   "mimetype": "text/x-python",
   "name": "python",
   "nbconvert_exporter": "python",
   "pygments_lexer": "ipython3",
   "version": "3.11.11"
  }
 },
 "nbformat": 4,
 "nbformat_minor": 2
}
